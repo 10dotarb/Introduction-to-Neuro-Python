{
  "cells": [
    {
      "cell_type": "markdown",
      "metadata": {
        "id": "XFQ4m10G9ZbO"
      },
      "source": [
        "# The Psychometric Function Week 1, Tutorial 3\n",
        "\n",
        "\n"
      ]
    },
    {
      "cell_type": "markdown",
      "metadata": {
        "id": "lK8n73qF9ZbU"
      },
      "source": [
        "In this notebook we will show some of the basics of plotting and accessing elements of a vector (array) of numbers using the psychometric function also known as a cumulative Gaussian."
      ]
    },
    {
      "cell_type": "markdown",
      "metadata": {
        "id": "INuPpdSX9ZbV"
      },
      "source": [
        "### Libraries"
      ]
    },
    {
      "cell_type": "code",
      "execution_count": 51,
      "metadata": {
        "id": "mi0jlUXN9ZbV"
      },
      "outputs": [],
      "source": [
        "# LIBRARY\n",
        "\n",
        "import numpy as np # vector manipulation\n",
        "from scipy.stats import norm # Psychometric Function\n",
        "\n",
        "# THIS IS FOR PLOTTING\n",
        "%matplotlib inline\n",
        "import matplotlib.pyplot as plt # side-stepping mpl backend\n",
        "import warnings\n",
        "warnings.filterwarnings(\"ignore\")"
      ]
    },
    {
      "cell_type": "markdown",
      "metadata": {
        "id": "8sltgvNI9ZbW"
      },
      "source": [
        "## A Single Psychometric Function\n",
        "\n",
        "The code below will plot a psychometric function for temporal discrimination from 0 to 100ms interstimulus interval with a Point of Subjective Equlaity PSE (mean $\\mu$) of 50 and and Just Noiticable Difference JND (variance $\\sigma$) of 10.\n",
        "The value 0 indicates the participant saw two synchronous lights, a value of 1 indicates the participant saw two asynchronous lights (Butler et al. 2015).\n",
        "\n"
      ]
    },
    {
      "cell_type": "markdown",
      "metadata": {
        "id": "qUp9PsPQ9ZbW"
      },
      "source": [
        "Now we define a range of x values, called ISI, starting at 0 and ending at 100 in unit steps. To do this we use the __numpy__ library function __arange__."
      ]
    },
    {
      "cell_type": "code",
      "execution_count": 52,
      "metadata": {
        "colab": {
          "base_uri": "https://localhost:8080/"
        },
        "id": "zQTRHlGK9ZbW",
        "outputId": "f9bdff72-defa-484e-b9ed-72537814d059"
      },
      "outputs": [
        {
          "output_type": "stream",
          "name": "stdout",
          "text": [
            "[  0   1   2   3   4   5   6   7   8   9  10  11  12  13  14  15  16  17\n",
            "  18  19  20  21  22  23  24  25  26  27  28  29  30  31  32  33  34  35\n",
            "  36  37  38  39  40  41  42  43  44  45  46  47  48  49  50  51  52  53\n",
            "  54  55  56  57  58  59  60  61  62  63  64  65  66  67  68  69  70  71\n",
            "  72  73  74  75  76  77  78  79  80  81  82  83  84  85  86  87  88  89\n",
            "  90  91  92  93  94  95  96  97  98  99 100]\n"
          ]
        }
      ],
      "source": [
        "ISI=np.arange(0,101,1) # INTER STIMULUS INTERVAL\n",
        "print(ISI)"
      ]
    },
    {
      "cell_type": "markdown",
      "metadata": {
        "id": "MTA-98719ZbY"
      },
      "source": [
        "To print the first element of the x range use the comand print(x[0])"
      ]
    },
    {
      "cell_type": "code",
      "execution_count": 53,
      "metadata": {
        "colab": {
          "base_uri": "https://localhost:8080/"
        },
        "id": "3FBc7dlu9ZbY",
        "outputId": "2654ee9d-1ce1-403c-d933-18357f958b68"
      },
      "outputs": [
        {
          "output_type": "stream",
          "name": "stdout",
          "text": [
            "0\n",
            "100\n"
          ]
        }
      ],
      "source": [
        "print(ISI[0])\n",
        "print (ISI[-1])"
      ]
    },
    {
      "cell_type": "markdown",
      "metadata": {
        "id": "3qwlhSfO9ZbY"
      },
      "source": [
        "To plot the psychometric function we use the function __norm.cdf__ from the __scipy.stats__ library."
      ]
    },
    {
      "cell_type": "code",
      "execution_count": 54,
      "metadata": {
        "colab": {
          "base_uri": "https://localhost:8080/"
        },
        "id": "RvusKPK89ZbZ",
        "outputId": "871b76c3-f618-4b9f-974c-0d603e459728"
      },
      "outputs": [
        {
          "output_type": "stream",
          "name": "stdout",
          "text": [
            "[2.86651572e-07 4.79183277e-07 7.93328152e-07 1.30080745e-06\n",
            " 2.11245470e-06 3.39767312e-06 5.41254391e-06 8.53990547e-06\n",
            " 1.33457490e-05 2.06575069e-05 3.16712418e-05 4.80963440e-05\n",
            " 7.23480439e-05 1.07799733e-04 1.59108590e-04 2.32629079e-04\n",
            " 3.36929266e-04 4.83424142e-04 6.87137938e-04 9.67603213e-04\n",
            " 1.34989803e-03 1.86581330e-03 2.55513033e-03 3.46697380e-03\n",
            " 4.66118802e-03 6.20966533e-03 8.19753592e-03 1.07241100e-02\n",
            " 1.39034475e-02 1.78644206e-02 2.27501319e-02 2.87165598e-02\n",
            " 3.59303191e-02 4.45654628e-02 5.47992917e-02 6.68072013e-02\n",
            " 8.07566592e-02 9.68004846e-02 1.15069670e-01 1.35666061e-01\n",
            " 1.58655254e-01 1.84060125e-01 2.11855399e-01 2.41963652e-01\n",
            " 2.74253118e-01 3.08537539e-01 3.44578258e-01 3.82088578e-01\n",
            " 4.20740291e-01 4.60172163e-01 5.00000000e-01 5.39827837e-01\n",
            " 5.79259709e-01 6.17911422e-01 6.55421742e-01 6.91462461e-01\n",
            " 7.25746882e-01 7.58036348e-01 7.88144601e-01 8.15939875e-01\n",
            " 8.41344746e-01 8.64333939e-01 8.84930330e-01 9.03199515e-01\n",
            " 9.19243341e-01 9.33192799e-01 9.45200708e-01 9.55434537e-01\n",
            " 9.64069681e-01 9.71283440e-01 9.77249868e-01 9.82135579e-01\n",
            " 9.86096552e-01 9.89275890e-01 9.91802464e-01 9.93790335e-01\n",
            " 9.95338812e-01 9.96533026e-01 9.97444870e-01 9.98134187e-01\n",
            " 9.98650102e-01 9.99032397e-01 9.99312862e-01 9.99516576e-01\n",
            " 9.99663071e-01 9.99767371e-01 9.99840891e-01 9.99892200e-01\n",
            " 9.99927652e-01 9.99951904e-01 9.99968329e-01 9.99979342e-01\n",
            " 9.99986654e-01 9.99991460e-01 9.99994587e-01 9.99996602e-01\n",
            " 9.99997888e-01 9.99998699e-01 9.99999207e-01 9.99999521e-01\n",
            " 9.99999713e-01]\n"
          ]
        }
      ],
      "source": [
        "PSE=50 # Mean\n",
        "JND=10 # Variance, STD actually, but OK\n",
        "# JND = 0.1 or 30? Robot vs very straight (Gradual transition)\n",
        "TDT_fun= norm.cdf(ISI,PSE,JND) # Input of function = x, mean, variance (Cummulative density function)\n",
        "print(TDT_fun)"
      ]
    },
    {
      "cell_type": "markdown",
      "metadata": {
        "id": "VcGx60Io9ZbZ"
      },
      "source": [
        "To plot the result we use the __matplotlib__ library function __plt__."
      ]
    },
    {
      "cell_type": "code",
      "execution_count": 55,
      "metadata": {
        "colab": {
          "base_uri": "https://localhost:8080/",
          "height": 265
        },
        "id": "udbZxE2B9ZbZ",
        "outputId": "80ed6853-5bea-4fe9-f435-b0dd971ab4d1"
      },
      "outputs": [
        {
          "output_type": "display_data",
          "data": {
            "image/png": "[encoded data removed]",
            "text/plain": [
              "<Figure size 432x288 with 1 Axes>"
            ]
          },
          "metadata": {
            "needs_background": "light"
          }
        }
      ],
      "source": [
        "fig = plt.figure(figsize=(6,4)) # This setups the size of the figure\n",
        "plt.plot(ISI,TDT_fun,'.',color='black')\n",
        "plt.show() # This plots the figure"
      ]
    },
    {
      "cell_type": "markdown",
      "metadata": {
        "id": "wQ3lfTzQ9Zba"
      },
      "source": [
        "To plot the guassian of the psychometric function we use the function __norm.pdf__ from the __scipy.stats__ library."
      ]
    },
    {
      "cell_type": "code",
      "execution_count": 56,
      "metadata": {
        "colab": {
          "base_uri": "https://localhost:8080/",
          "height": 265
        },
        "id": "QU7YEVS19Zba",
        "outputId": "5499c43c-2927-4798-850f-654e6409b7fe"
      },
      "outputs": [
        {
          "output_type": "display_data",
          "data": {
            "image/png": "[encoded data removed]",
            "text/plain": [
              "<Figure size 432x288 with 1 Axes>"
            ]
          },
          "metadata": {
            "needs_background": "light"
          }
        }
      ],
      "source": [
        "gaussian= norm.pdf(ISI,PSE,JND)\n",
        "fig = plt.figure(figsize=(6,4)) # This setups the size of the figure\n",
        "plt.plot(ISI,gaussian,'-',color='black')\n",
        "plt.show() # This plots the figure"
      ]
    },
    {
      "cell_type": "markdown",
      "source": [
        "# Problems"
      ],
      "metadata": {
        "id": "tFdDp0QlDbfb"
      }
    },
    {
      "cell_type": "markdown",
      "metadata": {
        "id": "DWTnLxR79Zbb"
      },
      "source": [
        "## Problem 1\n",
        "Re-do the plot of the psychometric function with a PSE of 40 and JND of 30.\n"
      ]
    },
    {
      "cell_type": "code",
      "execution_count": 57,
      "metadata": {
        "colab": {
          "base_uri": "https://localhost:8080/",
          "height": 374
        },
        "id": "ll-tN8Nk9Zbb",
        "outputId": "66be51b0-d876-4f57-9a89-e10ed041f64b"
      },
      "outputs": [
        {
          "output_type": "display_data",
          "data": {
            "image/png": "[encoded data removed]",
            "text/plain": [
              "<Figure size 432x432 with 1 Axes>"
            ]
          },
          "metadata": {
            "needs_background": "light"
          }
        }
      ],
      "source": [
        "##############################################################################\n",
        "## INSERT: Re-do the plot of the psychometric function with a PSE of 40 and JND of 30.\n",
        "##############################################################################\n",
        "#######################ANSWER#################################\n",
        "PSE =40 # Moves the curve - left or right\n",
        "JND=30 # Flattens the curve\n",
        "ISI=np.arange(0,101,1) # INTER STIMULUS INTERVAL\n",
        "\n",
        "#######################ANSWER#################################\n",
        "\n",
        "psychometric= norm.cdf(ISI,PSE,JND)\n",
        "\n",
        "fig = plt.figure(figsize=(6,6))\n",
        "plt.plot(ISI,psychometric,'-',color='red')\n",
        "\n",
        "plt.show()"
      ]
    },
    {
      "cell_type": "markdown",
      "metadata": {
        "id": "LZRS8QDf9Zbc"
      },
      "source": [
        "## Problem 2\n",
        "Re-do the plot but with a different coloured curve."
      ]
    },
    {
      "cell_type": "code",
      "execution_count": 58,
      "metadata": {
        "colab": {
          "base_uri": "https://localhost:8080/",
          "height": 374
        },
        "id": "E-xSHswd9Zbc",
        "outputId": "a7f8b4c8-16ae-4ca5-ee33-1c955ebbc46a"
      },
      "outputs": [
        {
          "output_type": "display_data",
          "data": {
            "image/png": "[encoded data removed]",
            "text/plain": [
              "<Figure size 432x432 with 1 Axes>"
            ]
          },
          "metadata": {
            "needs_background": "light"
          }
        }
      ],
      "source": [
        "\n",
        "fig = plt.figure(figsize=(6,6))\n",
        "##############################################################################\n",
        "## INSERT: change the plot function to plot a different coloured line.\n",
        "##############################################################################\n",
        "\n",
        "#######################ANSWER#################################\n",
        "plt.plot(ISI,psychometric,'-',color='b')\n",
        "#######################ANSWER#################################\n",
        "\n",
        "plt.show()"
      ]
    },
    {
      "cell_type": "markdown",
      "metadata": {
        "id": "eU2S38ho9Zbd"
      },
      "source": [
        "## Problem 3\n",
        "What is the probability that someone will see the two flashing lights if the interstimulus interval is 60ms apart given a PSE of 45 and JND of 15."
      ]
    },
    {
      "cell_type": "code",
      "execution_count": 59,
      "metadata": {
        "colab": {
          "base_uri": "https://localhost:8080/",
          "height": 388
        },
        "id": "IxOHytSy9Zbd",
        "outputId": "3b9fb506-36e1-4ffc-c017-7d19875cd4a2"
      },
      "outputs": [
        {
          "output_type": "display_data",
          "data": {
            "image/png": "[encoded data removed]",
            "text/plain": [
              "<Figure size 432x432 with 1 Axes>"
            ]
          },
          "metadata": {
            "needs_background": "light"
          }
        }
      ],
      "source": [
        "PSE=45\n",
        "JND=15\n",
        "psychometric= norm.cdf(ISI,PSE,JND)\n",
        "\n",
        "fig = plt.figure(figsize=(6,6))\n",
        "plt.plot(ISI,psychometric,'-',color='blue')\n",
        "plt.xlabel('Interstimulus Interval (ms)')\n",
        "plt.ylabel('Proportion of Different Responses')\n",
        "plt.show()"
      ]
    },
    {
      "cell_type": "code",
      "execution_count": 60,
      "metadata": {
        "colab": {
          "base_uri": "https://localhost:8080/"
        },
        "id": "xN4lDSk-9Zbd",
        "outputId": "22ac681e-62f7-4da4-a7a7-060738d8637b"
      },
      "outputs": [
        {
          "output_type": "stream",
          "name": "stdout",
          "text": [
            "[0.84134475]\n"
          ]
        }
      ],
      "source": [
        "ISI==60.0 # FIND THE ISI VALUE THAT EQUALS 60\n",
        "print (psychometric[ISI == 60])"
      ]
    },
    {
      "cell_type": "markdown",
      "metadata": {
        "id": "6dp5s8jI9Zbe"
      },
      "source": [
        "---\n",
        "# Summary\n",
        "\n",
        "In this tutorial, we learned:\n",
        "\n",
        "* To plot psychometric (cummulative Gaussian) function.\n",
        "* To find value from a function.\n",
        "\n"
      ]
    },
    {
      "cell_type": "markdown",
      "metadata": {
        "id": "9SbSCfUF9Zbe"
      },
      "source": [
        "## Reference \n",
        "Butler, John S., et al. \"Non-parametric bootstrapping method for measuring the temporal discrimination threshold for movement disorders.\" Journal of neural engineering 12.4 (2015): 046026."
      ]
    },
    {
      "cell_type": "code",
      "execution_count": 60,
      "metadata": {
        "id": "UGJnRVOO9Zbe"
      },
      "outputs": [],
      "source": [
        ""
      ]
    }
  ],
  "metadata": {
    "colab": {
      "name": "W1T3 The Psychometric Function.ipynb",
      "provenance": []
    },
    "kernelspec": {
      "display_name": "Python 3",
      "language": "python",
      "name": "python3"
    },
    "language_info": {
      "codemirror_mode": {
        "name": "ipython",
        "version": 3
      },
      "file_extension": ".py",
      "mimetype": "text/x-python",
      "name": "python",
      "nbconvert_exporter": "python",
      "pygments_lexer": "ipython3",
      "version": "3.8.5"
    }
  },
  "nbformat": 4,
  "nbformat_minor": 0
}