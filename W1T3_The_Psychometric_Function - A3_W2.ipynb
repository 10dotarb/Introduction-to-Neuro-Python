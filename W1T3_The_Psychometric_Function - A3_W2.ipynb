{
  "nbformat": 4,
  "nbformat_minor": 0,
  "metadata": {
    "colab": {
      "name": "W1T3 The Psychometric Function.ipynb",
      "provenance": []
    },
    "kernelspec": {
      "display_name": "Python 3",
      "language": "python",
      "name": "python3"
    },
    "language_info": {
      "codemirror_mode": {
        "name": "ipython",
        "version": 3
      },
      "file_extension": ".py",
      "mimetype": "text/x-python",
      "name": "python",
      "nbconvert_exporter": "python",
      "pygments_lexer": "ipython3",
      "version": "3.8.5"
    }
  },
  "cells": [
    {
      "cell_type": "markdown",
      "metadata": {
        "id": "XFQ4m10G9ZbO"
      },
      "source": [
        "# Tuning Curve, Week 2 Tutorial 3"
      ]
    },
    {
      "cell_type": "markdown",
      "metadata": {
        "id": "lK8n73qF9ZbU"
      },
      "source": [
        "In this notebook we will illustrate simple spike analysis for repeated Trials."
      ]
    },
    {
      "cell_type": "markdown",
      "metadata": {
        "id": "INuPpdSX9ZbV"
      },
      "source": [
        "### Libraries"
      ]
    },
    {
      "cell_type": "code",
      "metadata": {
        "id": "mi0jlUXN9ZbV"
      },
      "source": [
        "# LIBRARY\n",
        "\n",
        "import numpy as np # vector manipulation\n",
        "from scipy.stats import norm # Psychometric Function\n",
        "from scipy.stats import poisson\n",
        "\n",
        "# THIS IS FOR PLOTTING\n",
        "%matplotlib inline\n",
        "import matplotlib.pyplot as plt # side-stepping mpl backend\n",
        "import warnings\n",
        "warnings.filterwarnings(\"ignore\")"
      ],
      "execution_count": 18,
      "outputs": []
    },
    {
      "cell_type": "markdown",
      "metadata": {
        "id": "8sltgvNI9ZbW"
      },
      "source": [
        "## Gaussian Tunning Function\n",
        "\n",
        "To simulate a single 1000ms trial we generate a matrix of 1000 time 100 trials random numbers between 0 and 1."
      ]
    },
    {
      "cell_type": "code",
      "metadata": {
        "id": "afacYvVjr6SZ",
        "colab": {
          "base_uri": "https://localhost:8080/",
          "height": 279
        },
        "outputId": "91aad0c1-f6a5-4ff2-bac4-432db9e04547"
      },
      "source": [
        "Orientation=np.arange(-40,40,1)\n",
        "Max_Firing=60\n",
        "Preferred_Direction=0\n",
        "Width = 10\n",
        "tunning_curve= Max_Firing*norm.pdf(Orientation,Preferred_Direction,Width)/max(norm.pdf(Orientation,Preferred_Direction,Width))\n",
        "fig = plt.figure(figsize=(8,4)) # This setups the size of the figure\n",
        "plt.plot(Orientation,tunning_curve,'-',color='black')\n",
        "plt.xlabel('Orientation')\n",
        "plt.ylabel('Firing Rate (Hz)')\n",
        "plt.show() # This plots the figure"
      ],
      "execution_count": 19,
      "outputs": [
        {
          "output_type": "display_data",
          "data": {
            "image/png": "[encoded data removed]",
            "text/plain": [
              "<Figure size 576x288 with 1 Axes>"
            ]
          },
          "metadata": {
            "needs_background": "light"
          }
        }
      ]
    },
    {
      "cell_type": "markdown",
      "metadata": {
        "id": "kXlkCKkOr6Sa"
      },
      "source": [
        "## Sigmoid Tunning Function\n",
        "A neuron will only fire if the probability is below the threshold.\n",
        "We set the neuron to have 0 spikes at all 1000 time points and 100 trials."
      ]
    },
    {
      "cell_type": "code",
      "metadata": {
        "colab": {
          "base_uri": "https://localhost:8080/",
          "height": 279
        },
        "id": "zQTRHlGK9ZbW",
        "outputId": "813b9b51-7669-473f-cb10-9e52c0f82eb6"
      },
      "source": [
        "Disparity=np.arange(-1,1,0.025)\n",
        "Max_firing = 40\n",
        "Preferred_Disparity = 0\n",
        "Sharpness = 0.02\n",
        "Disparity_tunning_curve= Max_firing*norm.cdf(Disparity,Preferred_Disparity,Sharpness)\n",
        "\n",
        "\n",
        "\n",
        "fig = plt.figure(figsize=(8,4)) # This setups the size of the figure\n",
        "plt.plot(Disparity,Disparity_tunning_curve,'-',color='black')\n",
        "plt.xlabel('Disparity')\n",
        "plt.ylabel('Firing Rate (Hz)')\n",
        "plt.show() # This plots the figure"
      ],
      "execution_count": 20,
      "outputs": [
        {
          "output_type": "display_data",
          "data": {
            "image/png": "[encoded data removed]",
            "text/plain": [
              "<Figure size 576x288 with 1 Axes>"
            ]
          },
          "metadata": {
            "needs_background": "light"
          }
        }
      ]
    },
    {
      "cell_type": "markdown",
      "metadata": {
        "id": "DWTnLxR79Zbb"
      },
      "source": [
        "## Problem 1\n",
        "Plot a gaussian tuning for oriention with a max firing rate of 50Hz at 10 degrees and a baseline firing rate of 10Hz with a standard deviation of 5 degrees.\n"
      ]
    },
    {
      "cell_type": "code",
      "metadata": {
        "colab": {
          "base_uri": "https://localhost:8080/",
          "height": 279
        },
        "id": "ll-tN8Nk9Zbb",
        "outputId": "85b09f5b-b6ac-4491-e344-0bb7379ece04"
      },
      "source": [
        "\n",
        "\n",
        "Orientation=np.arange(-40,40,1)\n",
        "##############################################################################\n",
        "## INSERT: Plot a gaussian tuning for oriention with a max firing rate of 50Hz \n",
        "## at 10 degrees and a baseline firing rate of 10Hz with a standard deviation of 5 degrees.\n",
        "##############################################################################\n",
        "#######################ANSWER#################################\n",
        "\n",
        "Max_Firing=50\n",
        "Baseline_Firing=10\n",
        "Preferred_Direction=10\n",
        "Width = 5\n",
        "tunning_curve= norm.pdf(Orientation,Preferred_Direction,Width)/max(norm.pdf(Orientation,Preferred_Direction,Width))\n",
        "\n",
        "tunning_curve = (Max_Firing-Baseline_Firing)*tunning_curve+Baseline_Firing\n",
        "\n",
        "#######################ANSWER#################################\n",
        "\n",
        "fig = plt.figure(figsize=(8,4)) # This setups the size of the figure\n",
        "plt.plot(Orientation,tunning_curve,'-',color='black')\n",
        "plt.xlabel('Orientation')\n",
        "plt.ylabel('Firing Rate (Hz)')\n",
        "plt.show() # This plots the figure"
      ],
      "execution_count": 21,
      "outputs": [
        {
          "output_type": "display_data",
          "data": {
            "image/png": "[encoded data removed]",
            "text/plain": [
              "<Figure size 576x288 with 1 Axes>"
            ]
          },
          "metadata": {
            "needs_background": "light"
          }
        }
      ]
    },
    {
      "cell_type": "markdown",
      "metadata": {
        "id": "6dp5s8jI9Zbe"
      },
      "source": [
        "---\n",
        "# Summary\n",
        "\n",
        "In this tutorial, we learned:\n",
        "\n",
        "* To plot and manipulate a neuronal Tuning function.\n"
      ]
    },
    {
      "cell_type": "markdown",
      "metadata": {
        "id": "QfehppuJMbb8"
      },
      "source": [
        "## References\n",
        "Britten, Kenneth H., et al. \"The analysis of visual motion: a comparison of neuronal and psychophysical performance.\" Journal of Neuroscience 12.12 (1992): 4745-4765."
      ]
    },
    {
      "cell_type": "code",
      "metadata": {
        "id": "5VM4QC8xMdGJ"
      },
      "source": [
        ""
      ],
      "execution_count": 21,
      "outputs": []
    }
  ]
}