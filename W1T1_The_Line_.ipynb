{
  "nbformat": 4,
  "nbformat_minor": 0,
  "metadata": {
    "kernelspec": {
      "display_name": "Python 3",
      "language": "python",
      "name": "python3"
    },
    "language_info": {
      "codemirror_mode": {
        "name": "ipython",
        "version": 3
      },
      "file_extension": ".py",
      "mimetype": "text/x-python",
      "name": "python",
      "nbconvert_exporter": "python",
      "pygments_lexer": "ipython3",
      "version": "3.7.9"
    },
    "colab": {
      "name": "W1T1 The Line .ipynb",
      "provenance": []
    }
  },
  "cells": [
    {
      "cell_type": "markdown",
      "metadata": {
        "id": "wjw5J2KF9Y_t"
      },
      "source": [
        "# The line Week 1, Tutorial 1\n",
        "\n",
        "Abhimanyu Bhardwaj"
      ]
    },
    {
      "cell_type": "markdown",
      "metadata": {
        "id": "Q2UwpnGU9Y_z"
      },
      "source": [
        "In this notebook we will show some of the basics of plotting and accessing elements of a vector (array) of numbers using the line."
      ]
    },
    {
      "cell_type": "markdown",
      "metadata": {
        "id": "HIw9sEB39Y_z"
      },
      "source": [
        "### Libraries"
      ]
    },
    {
      "cell_type": "code",
      "metadata": {
        "id": "Z-9U5qbQ9Y_z"
      },
      "source": [
        "# LIBRARY\n",
        "import numpy as np # vector manipulation\n",
        "\n",
        "# THIS IS FOR PLOTTING\n",
        "%matplotlib inline\n",
        "import matplotlib.pyplot as plt # side-stepping mpl backend\n",
        "import warnings\n",
        "warnings.filterwarnings(\"ignore\")"
      ],
      "execution_count": 27,
      "outputs": []
    },
    {
      "cell_type": "markdown",
      "metadata": {
        "id": "jngXI1dd9Y_0"
      },
      "source": [
        "## A Single Line Plot\n",
        "\n",
        "The code below will plot a line from 20 to 70 on the x axis with a slope of $m=0.3$ and an intercept of $c=10$.\n",
        "The formula for the line is\n",
        "$$ y=0.3x+10.$$\n",
        "We first assign the values for m and c:"
      ]
    },
    {
      "cell_type": "code",
      "metadata": {
        "id": "tt9dMM529Y_0",
        "outputId": "22a04615-f5a8-4940-e20d-2cc30dfba24f",
        "colab": {
          "base_uri": "https://localhost:8080/"
        }
      },
      "source": [
        "m=0.3\n",
        "c=10\n",
        "print ('slope = ', m, ', intercept = ', c)"
      ],
      "execution_count": 28,
      "outputs": [
        {
          "output_type": "stream",
          "name": "stdout",
          "text": [
            "slope =  0.3 , intercept =  10\n"
          ]
        }
      ]
    },
    {
      "cell_type": "markdown",
      "metadata": {
        "id": "_bytS9jx9Y_0"
      },
      "source": [
        "Now we define a range of x values starting at 20 and ending at 69 in unit steps. To do this we use the __numpy__ library function __arange__."
      ]
    },
    {
      "cell_type": "code",
      "metadata": {
        "id": "SFQXATAv9Y_1",
        "outputId": "0a52ad9f-fa6f-4e2f-9b09-2c4c35207543",
        "colab": {
          "base_uri": "https://localhost:8080/"
        }
      },
      "source": [
        "x=np.arange(20,70,1)\n",
        "print(x)"
      ],
      "execution_count": 29,
      "outputs": [
        {
          "output_type": "stream",
          "name": "stdout",
          "text": [
            "[20 21 22 23 24 25 26 27 28 29 30 31 32 33 34 35 36 37 38 39 40 41 42 43\n",
            " 44 45 46 47 48 49 50 51 52 53 54 55 56 57 58 59 60 61 62 63 64 65 66 67\n",
            " 68 69]\n"
          ]
        }
      ]
    },
    {
      "cell_type": "markdown",
      "metadata": {
        "id": "u8i76VS_9Y_2"
      },
      "source": [
        "To print the first element of the x range use the comand print(x[0])"
      ]
    },
    {
      "cell_type": "code",
      "metadata": {
        "id": "eiM1EKZ49Y_2",
        "outputId": "933bc726-2899-4532-a836-125b9f6df0c1",
        "colab": {
          "base_uri": "https://localhost:8080/"
        }
      },
      "source": [
        "print(x[0])\n",
        "print (x[-1])\n",
        "print (x[2:10])"
      ],
      "execution_count": 30,
      "outputs": [
        {
          "output_type": "stream",
          "name": "stdout",
          "text": [
            "20\n",
            "69\n",
            "[22 23 24 25 26 27 28 29]\n"
          ]
        }
      ]
    },
    {
      "cell_type": "markdown",
      "metadata": {
        "id": "ZB7HOPUY9Y_3"
      },
      "source": [
        "We now write the formula for the line\n",
        "$$ y=mx+c.$$"
      ]
    },
    {
      "cell_type": "code",
      "metadata": {
        "id": "Y1hxdDQ39Y_3",
        "outputId": "585533b3-7cf3-4620-8a1f-77d110220309",
        "colab": {
          "base_uri": "https://localhost:8080/"
        }
      },
      "source": [
        "y= m*x+c\n",
        "print(y)"
      ],
      "execution_count": 31,
      "outputs": [
        {
          "output_type": "stream",
          "name": "stdout",
          "text": [
            "[16.  16.3 16.6 16.9 17.2 17.5 17.8 18.1 18.4 18.7 19.  19.3 19.6 19.9\n",
            " 20.2 20.5 20.8 21.1 21.4 21.7 22.  22.3 22.6 22.9 23.2 23.5 23.8 24.1\n",
            " 24.4 24.7 25.  25.3 25.6 25.9 26.2 26.5 26.8 27.1 27.4 27.7 28.  28.3\n",
            " 28.6 28.9 29.2 29.5 29.8 30.1 30.4 30.7]\n"
          ]
        }
      ]
    },
    {
      "cell_type": "markdown",
      "metadata": {
        "id": "FgIwc08F9Y_3"
      },
      "source": [
        "To plot the result we use the __matplotlib__ library function __plt__."
      ]
    },
    {
      "cell_type": "code",
      "metadata": {
        "id": "qE8a3N6e9Y_3",
        "outputId": "cd3185d8-54ee-4ca2-9d50-1838983b9e0e",
        "colab": {
          "base_uri": "https://localhost:8080/",
          "height": 374
        }
      },
      "source": [
        "fig = plt.figure(figsize=(6,6)) # This setups the size of the figure\n",
        "plt.plot(x,y,'.',color='red')\n",
        "plt.show() # This plots the figure"
      ],
      "execution_count": 32,
      "outputs": [
        {
          "output_type": "display_data",
          "data": {
            "image/png": "[encoded data removed]",
            "text/plain": [
              "<Figure size 432x432 with 1 Axes>"
            ]
          },
          "metadata": {
            "needs_background": "light"
          }
        }
      ]
    },
    {
      "cell_type": "markdown",
      "metadata": {
        "id": "OYy_EVh09Y_4"
      },
      "source": [
        "# Problems \n",
        "There are three simple problem questions to show how to plot a line in python.\n",
        "\n"
      ]
    },
    {
      "cell_type": "markdown",
      "source": [
        "## Problem 1\n",
        "Re-do the plot with a slope of 1 and an intercept of -5.\n"
      ],
      "metadata": {
        "id": "rPZJos9eCRNj"
      }
    },
    {
      "cell_type": "code",
      "metadata": {
        "id": "ydBiZ2Ar9Y_4",
        "outputId": "d711a443-2a82-442b-c206-5e9573088eda",
        "colab": {
          "base_uri": "https://localhost:8080/",
          "height": 374
        }
      },
      "source": [
        "##############################################################################\n",
        "## INSERT: Update the slope to 1 and intercept to -5\n",
        "##############################################################################\n",
        "\n",
        "#######################ANSWER###############################\n",
        "m = 1\n",
        "c = -5\n",
        "#######################################################################\n",
        "\n",
        "x=np.arange(20,70,1)\n",
        "y= m*x+c\n",
        "\n",
        "fig = plt.figure(figsize=(6,6))\n",
        "plt.plot(x,y,'-',color='red')\n",
        "plt.show()"
      ],
      "execution_count": 33,
      "outputs": [
        {
          "output_type": "display_data",
          "data": {
            "image/png": "[encoded data removed]",
            "text/plain": [
              "<Figure size 432x432 with 1 Axes>"
            ]
          },
          "metadata": {
            "needs_background": "light"
          }
        }
      ]
    },
    {
      "cell_type": "markdown",
      "metadata": {
        "id": "tkN77Rnu9Y_5"
      },
      "source": [
        "## Problem 2\n",
        "Re-do the plot but with a different coloured line."
      ]
    },
    {
      "cell_type": "code",
      "metadata": {
        "id": "uDqN0g7P9Y_5",
        "outputId": "75bf1614-cda0-4612-d38d-5d6b799341c1",
        "colab": {
          "base_uri": "https://localhost:8080/",
          "height": 391
        }
      },
      "source": [
        "\n",
        "fig = plt.figure(figsize=(6,6))\n",
        "##############################################################################\n",
        "## INSERT: change the plot function to plot a different coloured line.\n",
        "##############################################################################\n",
        "\n",
        "#######################ANSWER###############################\n",
        "m=1\n",
        "c=-5\n",
        "\n",
        "x=np.arange(20,70,1)\n",
        "y= m*x+c\n",
        "\n",
        "fig = plt.figure(figsize=(6,6))\n",
        "plt.plot(x,y,'--', color = 'b')\n",
        "#######################################################################\n",
        "\n",
        "plt.show()"
      ],
      "execution_count": 34,
      "outputs": [
        {
          "output_type": "display_data",
          "data": {
            "text/plain": [
              "<Figure size 432x432 with 0 Axes>"
            ]
          },
          "metadata": {}
        },
        {
          "output_type": "display_data",
          "data": {
            "image/png": "[encoded data removed]",
            "text/plain": [
              "<Figure size 432x432 with 1 Axes>"
            ]
          },
          "metadata": {
            "needs_background": "light"
          }
        }
      ]
    },
    {
      "cell_type": "markdown",
      "metadata": {
        "id": "AQzcrptU9Y_6"
      },
      "source": [
        "## Problem 3\n",
        "What is the value of the 5th element of the y vector."
      ]
    },
    {
      "cell_type": "code",
      "metadata": {
        "id": "87iT4icO9Y_6",
        "outputId": "bb5c8ca3-7e08-45bd-cec4-6849e8a1f873",
        "colab": {
          "base_uri": "https://localhost:8080/"
        }
      },
      "source": [
        "########## ANSWER ###################\n",
        "print (y[4])"
      ],
      "execution_count": 35,
      "outputs": [
        {
          "output_type": "stream",
          "name": "stdout",
          "text": [
            "19\n"
          ]
        }
      ]
    },
    {
      "cell_type": "markdown",
      "metadata": {
        "id": "WzpgliAh9Y_7"
      },
      "source": [
        "---\n",
        "# Summary\n",
        "\n",
        "In this tutorial, we learned:\n",
        "\n",
        "* To plot a line.\n",
        "* To access elements of an array."
      ]
    }
  ]
}