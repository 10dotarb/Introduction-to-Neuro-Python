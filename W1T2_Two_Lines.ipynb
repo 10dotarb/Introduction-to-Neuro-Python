{
  "nbformat": 4,
  "nbformat_minor": 0,
  "metadata": {
    "kernelspec": {
      "display_name": "Python 3",
      "language": "python",
      "name": "python3"
    },
    "language_info": {
      "codemirror_mode": {
        "name": "ipython",
        "version": 3
      },
      "file_extension": ".py",
      "mimetype": "text/x-python",
      "name": "python",
      "nbconvert_exporter": "python",
      "pygments_lexer": "ipython3",
      "version": "3.7.9"
    },
    "colab": {
      "name": "W1T2 Two Lines.ipynb",
      "provenance": []
    }
  },
  "cells": [
    {
      "cell_type": "markdown",
      "metadata": {
        "id": "mlTL0CmO9ZSe"
      },
      "source": [
        "# Two lines Week 1, Tutorial 2"
      ]
    },
    {
      "cell_type": "markdown",
      "metadata": {
        "id": "MEBTjrue9ZSp"
      },
      "source": [
        "In this notebook we will show some of the basics of plotting multiple lines."
      ]
    },
    {
      "cell_type": "markdown",
      "metadata": {
        "id": "ffjzr2nJ9ZSq"
      },
      "source": [
        "### Libraries"
      ]
    },
    {
      "cell_type": "code",
      "metadata": {
        "id": "8z3T5SYD9ZSq"
      },
      "source": [
        "# LIBRARY\n",
        "\n",
        "import numpy as np # vector manipulation\n",
        "\n",
        "# THIS IS FOR PLOTTING\n",
        "%matplotlib inline\n",
        "import matplotlib.pyplot as plt # side-stepping mpl backend\n",
        "import warnings\n",
        "warnings.filterwarnings(\"ignore\")"
      ],
      "execution_count": 37,
      "outputs": []
    },
    {
      "cell_type": "markdown",
      "metadata": {
        "id": "3X3AEVMc9ZSr"
      },
      "source": [
        "## A plot with two lines\n",
        "\n",
        "The code below will plot two lines from 20 to 70 on the x axis.\n",
        "The first line will have a slope of $m=0.3$ and an intercept of $c=30$.\n",
        "The formula for the first line is\n",
        "$$ y1=0.3x+30.$$\n",
        "The second line will have a slope of $m=0.5$ and an intercept of $c=10$.\n",
        "The formula for the second line is\n",
        "$$ y2=0.5x+10.$$\n",
        "\n",
        "\n",
        "We first assign the values:"
      ]
    },
    {
      "cell_type": "code",
      "metadata": {
        "id": "5lUhCrMW9ZSr"
      },
      "source": [
        "m1=0.3\n",
        "c1=30\n",
        "m2=0.5\n",
        "c2=10"
      ],
      "execution_count": 38,
      "outputs": []
    },
    {
      "cell_type": "markdown",
      "metadata": {
        "id": "mDOXqVWK9ZSr"
      },
      "source": [
        "Now we define a range of x values starting at 20 and ending at 69 in unit steps. To do this we use the __numpy__ library function __arange__."
      ]
    },
    {
      "cell_type": "code",
      "metadata": {
        "id": "pteMyJUp9ZSs"
      },
      "source": [
        "x=np.arange(20,70,1)"
      ],
      "execution_count": 39,
      "outputs": []
    },
    {
      "cell_type": "markdown",
      "metadata": {
        "id": "jMMllwVk9ZSs"
      },
      "source": [
        "We now write the formula for the lines\n",
        "$$ y1=m1x+c1$$\n",
        "and\n",
        "$$ y2=m2x+c2$$."
      ]
    },
    {
      "cell_type": "code",
      "metadata": {
        "id": "oVYlGsVq9ZSs",
        "colab": {
          "base_uri": "https://localhost:8080/"
        },
        "outputId": "f742c85c-ee8a-4170-cdf2-4bfdc715fd33"
      },
      "source": [
        "y1= m1*x+c1\n",
        "y2= m2*x+c2\n",
        "print (y1)\n",
        "print (y2)"
      ],
      "execution_count": 40,
      "outputs": [
        {
          "output_type": "stream",
          "name": "stdout",
          "text": [
            "[36.  36.3 36.6 36.9 37.2 37.5 37.8 38.1 38.4 38.7 39.  39.3 39.6 39.9\n",
            " 40.2 40.5 40.8 41.1 41.4 41.7 42.  42.3 42.6 42.9 43.2 43.5 43.8 44.1\n",
            " 44.4 44.7 45.  45.3 45.6 45.9 46.2 46.5 46.8 47.1 47.4 47.7 48.  48.3\n",
            " 48.6 48.9 49.2 49.5 49.8 50.1 50.4 50.7]\n",
            "[20.  20.5 21.  21.5 22.  22.5 23.  23.5 24.  24.5 25.  25.5 26.  26.5\n",
            " 27.  27.5 28.  28.5 29.  29.5 30.  30.5 31.  31.5 32.  32.5 33.  33.5\n",
            " 34.  34.5 35.  35.5 36.  36.5 37.  37.5 38.  38.5 39.  39.5 40.  40.5\n",
            " 41.  41.5 42.  42.5 43.  43.5 44.  44.5]\n"
          ]
        }
      ]
    },
    {
      "cell_type": "markdown",
      "metadata": {
        "id": "JGk-hiiI9ZSs"
      },
      "source": [
        "To plot the result we use the __matplotlib__ library function __plt__."
      ]
    },
    {
      "cell_type": "code",
      "metadata": {
        "id": "wYA7668p9ZSt",
        "outputId": "6c9d3e60-c0d0-4aaf-e180-1f7512f3662c",
        "colab": {
          "base_uri": "https://localhost:8080/",
          "height": 374
        }
      },
      "source": [
        "fig = plt.figure(figsize=(6,6)) # This setups the size of the figure\n",
        "plt.plot(x,y1,'-',color='r')\n",
        "plt.plot(x,y2,'-',color='b')\n",
        "\n",
        "plt.show() # This plots the figure"
      ],
      "execution_count": 41,
      "outputs": [
        {
          "output_type": "display_data",
          "data": {
            "image/png": "[encoded data removed]",
            "text/plain": [
              "<Figure size 432x432 with 1 Axes>"
            ]
          },
          "metadata": {
            "needs_background": "light"
          }
        }
      ]
    },
    {
      "cell_type": "markdown",
      "metadata": {
        "id": "ylsFZPmK9ZSu"
      },
      "source": [
        "# Problems \n"
      ]
    },
    {
      "cell_type": "markdown",
      "source": [
        "## Problem 1\n",
        "Re-do the plot with two new lines:\n",
        "1. the first with a slope of 0.05 and an intercept of 50.\n",
        "2. the second with a slope of 1 and an intercept of 5."
      ],
      "metadata": {
        "id": "yyqBf8c8DIzO"
      }
    },
    {
      "cell_type": "code",
      "metadata": {
        "id": "tJom6OfH9ZSu",
        "outputId": "aa21de9c-64c3-45f5-bf32-6fcd4aee3d82",
        "colab": {
          "base_uri": "https://localhost:8080/",
          "height": 374
        }
      },
      "source": [
        "##############################################################################\n",
        "## INSERT: Update the lines \n",
        "##############################################################################\n",
        "m1 = 0.05\n",
        "c1 = 50\n",
        "m2 = 1\n",
        "c2 = 5\n",
        "\n",
        "##############################################################################\n",
        "#######################ANSWER#################################\n",
        "\n",
        "\n",
        "y1= m1*x+c1\n",
        "y2= m2*x+c2\n",
        "##############################################################################\n",
        "\n",
        "fig = plt.figure(figsize=(6,6))\n",
        "plt.plot(x,y1,'-',color='r')\n",
        "plt.plot(x,y2,'-',color='b')\n",
        "plt.show()"
      ],
      "execution_count": 42,
      "outputs": [
        {
          "output_type": "display_data",
          "data": {
            "image/png": "[encoded data removed]",
            "text/plain": [
              "<Figure size 432x432 with 1 Axes>"
            ]
          },
          "metadata": {
            "needs_background": "light"
          }
        }
      ]
    },
    {
      "cell_type": "markdown",
      "metadata": {
        "id": "8bMV5tT39ZSu"
      },
      "source": [
        "## Problem 2\n",
        "Add in the label age on the x axis and TDT(ms) on the y axis"
      ]
    },
    {
      "cell_type": "code",
      "metadata": {
        "id": "cFyaM7RE9ZSv",
        "outputId": "39d860a0-60f4-49fb-97b7-6dd0da8a03f4",
        "colab": {
          "base_uri": "https://localhost:8080/",
          "height": 388
        }
      },
      "source": [
        "##############################################################################\n",
        "## TO DO: change the labels\n",
        "##############################################################################\n",
        "fig = plt.figure(figsize=(6,6)) # This setups the size of the figure\n",
        "plt.plot(x,y1,'-',color='r', label = 'red')\n",
        "plt.plot(x,y2,'-',color='b', label = 'blue')\n",
        "\n",
        "#######################ANSWER#################################\n",
        "plt.xlabel('Age')\n",
        "plt.ylabel('TDT(ms)')\n",
        "plt.legend()\n",
        "\n",
        "#######################ANSWER#################################\n",
        "\n",
        "plt.show() # This plots the figure"
      ],
      "execution_count": 43,
      "outputs": [
        {
          "output_type": "display_data",
          "data": {
            "image/png": "[encoded data removed]",
            "text/plain": [
              "<Figure size 432x432 with 1 Axes>"
            ]
          },
          "metadata": {
            "needs_background": "light"
          }
        }
      ]
    },
    {
      "cell_type": "markdown",
      "metadata": {
        "id": "vTdPLOY59ZSv"
      },
      "source": [
        "## Problem 3\n",
        "What is the value of the 5th element of the y1 vector and the 10th element of the y2 vector."
      ]
    },
    {
      "cell_type": "code",
      "metadata": {
        "id": "Tg2n3Ghy9ZSw",
        "colab": {
          "base_uri": "https://localhost:8080/"
        },
        "outputId": "d54f8ed5-4716-46c8-92e1-92870adfce4d"
      },
      "source": [
        "#######################ANSWER#################################\n",
        "print (y1[4])\n",
        "print (y2[9])\n",
        "#######################ANSWER#################################"
      ],
      "execution_count": 44,
      "outputs": [
        {
          "output_type": "stream",
          "name": "stdout",
          "text": [
            "51.2\n",
            "34\n"
          ]
        }
      ]
    },
    {
      "cell_type": "markdown",
      "metadata": {
        "id": "jyS4tdQQ9ZSw"
      },
      "source": [
        "## Problem 4\n",
        "Why does the code below not work?\n",
        "How would you fix it?"
      ]
    },
    {
      "cell_type": "code",
      "metadata": {
        "id": "xW115Xn19ZSx",
        "outputId": "9274cd24-1ccc-430c-b7c5-d42ade05c2b7",
        "colab": {
          "base_uri": "https://localhost:8080/"
        }
      },
      "source": [
        "# y= m*x+c\n",
        "# m and c aren't defined\n",
        "\n",
        "m = 1 # The fix\n",
        "c = 30 # The fix\n",
        "y = m*x+c # Writing relation after the variable are assigned\n",
        "# Calling the relation before assigning would give the error.\n",
        "print(y)"
      ],
      "execution_count": 45,
      "outputs": [
        {
          "output_type": "stream",
          "name": "stdout",
          "text": [
            "[50 51 52 53 54 55 56 57 58 59 60 61 62 63 64 65 66 67 68 69 70 71 72 73\n",
            " 74 75 76 77 78 79 80 81 82 83 84 85 86 87 88 89 90 91 92 93 94 95 96 97\n",
            " 98 99]\n"
          ]
        }
      ]
    },
    {
      "cell_type": "markdown",
      "metadata": {
        "id": "0xYPdSvY9ZSx"
      },
      "source": [
        "---\n",
        "# Summary\n",
        "\n",
        "In this tutorial, we learned:\n",
        "\n",
        "* To plot multiple lines.\n",
        "* To add infromation to a plot.\n",
        "* To not worry if the code does not work."
      ]
    },
    {
      "cell_type": "code",
      "source": [
        ""
      ],
      "metadata": {
        "id": "nrbC6QXX9sJr"
      },
      "execution_count": 45,
      "outputs": []
    }
  ]
}